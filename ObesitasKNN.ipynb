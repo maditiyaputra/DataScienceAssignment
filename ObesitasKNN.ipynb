{
  "nbformat": 4,
  "nbformat_minor": 5,
  "metadata": {
    "kernelspec": {
      "display_name": "Python 3 (ipykernel)",
      "language": "python",
      "name": "python3"
    },
    "language_info": {
      "codemirror_mode": {
        "name": "ipython",
        "version": 3
      },
      "file_extension": ".py",
      "mimetype": "text/x-python",
      "name": "python",
      "nbconvert_exporter": "python",
      "pygments_lexer": "ipython3",
      "version": "3.9.6"
    },
    "colab": {
      "name": "ObesitasKNN.ipynb",
      "provenance": [],
      "collapsed_sections": [
        "ht_k4Avq646G",
        "rZZGRi_a8RDw",
        "7YDCyASa8Z3y",
        "UNELCyUbAIXL"
      ]
    }
  },
  "cells": [
    {
      "cell_type": "markdown",
      "metadata": {
        "id": "b261b2b0"
      },
      "source": [
        "# KNN\n"
      ],
      "id": "b261b2b0"
    },
    {
      "cell_type": "code",
      "metadata": {
        "colab": {
          "base_uri": "https://localhost:8080/",
          "height": 226
        },
        "id": "vZEXJKIYySzG",
        "outputId": "e942cce4-ffd3-4059-95ac-bbc336d5fcbd"
      },
      "source": [
        "#import packages \n",
        "import pandas as pd \n",
        "import matplotlib.pyplot as plt \n",
        "import numpy as np\n",
        "\n",
        "#read dataset \n",
        "df = pd.read_csv(\"ObesityDataSet_raw_and_data_sinthetic.csv\")\n",
        "df.head()"
      ],
      "id": "vZEXJKIYySzG",
      "execution_count": null,
      "outputs": [
        {
          "output_type": "execute_result",
          "data": {
            "text/html": [
              "<div>\n",
              "<style scoped>\n",
              "    .dataframe tbody tr th:only-of-type {\n",
              "        vertical-align: middle;\n",
              "    }\n",
              "\n",
              "    .dataframe tbody tr th {\n",
              "        vertical-align: top;\n",
              "    }\n",
              "\n",
              "    .dataframe thead th {\n",
              "        text-align: right;\n",
              "    }\n",
              "</style>\n",
              "<table border=\"1\" class=\"dataframe\">\n",
              "  <thead>\n",
              "    <tr style=\"text-align: right;\">\n",
              "      <th></th>\n",
              "      <th>Gender</th>\n",
              "      <th>Age</th>\n",
              "      <th>Height</th>\n",
              "      <th>Weight</th>\n",
              "      <th>family_history_with_overweight</th>\n",
              "      <th>FAVC</th>\n",
              "      <th>FCVC</th>\n",
              "      <th>NCP</th>\n",
              "      <th>CAEC</th>\n",
              "      <th>SMOKE</th>\n",
              "      <th>CH2O</th>\n",
              "      <th>SCC</th>\n",
              "      <th>FAF</th>\n",
              "      <th>TUE</th>\n",
              "      <th>CALC</th>\n",
              "      <th>MTRANS</th>\n",
              "      <th>NObeyesdad</th>\n",
              "    </tr>\n",
              "  </thead>\n",
              "  <tbody>\n",
              "    <tr>\n",
              "      <th>0</th>\n",
              "      <td>Female</td>\n",
              "      <td>21.0</td>\n",
              "      <td>1.62</td>\n",
              "      <td>64.0</td>\n",
              "      <td>yes</td>\n",
              "      <td>no</td>\n",
              "      <td>2.0</td>\n",
              "      <td>3.0</td>\n",
              "      <td>Sometimes</td>\n",
              "      <td>no</td>\n",
              "      <td>2.0</td>\n",
              "      <td>no</td>\n",
              "      <td>0.0</td>\n",
              "      <td>1.0</td>\n",
              "      <td>no</td>\n",
              "      <td>Public_Transportation</td>\n",
              "      <td>Normal_Weight</td>\n",
              "    </tr>\n",
              "    <tr>\n",
              "      <th>1</th>\n",
              "      <td>Female</td>\n",
              "      <td>21.0</td>\n",
              "      <td>1.52</td>\n",
              "      <td>56.0</td>\n",
              "      <td>yes</td>\n",
              "      <td>no</td>\n",
              "      <td>3.0</td>\n",
              "      <td>3.0</td>\n",
              "      <td>Sometimes</td>\n",
              "      <td>yes</td>\n",
              "      <td>3.0</td>\n",
              "      <td>yes</td>\n",
              "      <td>3.0</td>\n",
              "      <td>0.0</td>\n",
              "      <td>Sometimes</td>\n",
              "      <td>Public_Transportation</td>\n",
              "      <td>Normal_Weight</td>\n",
              "    </tr>\n",
              "    <tr>\n",
              "      <th>2</th>\n",
              "      <td>Male</td>\n",
              "      <td>23.0</td>\n",
              "      <td>1.80</td>\n",
              "      <td>77.0</td>\n",
              "      <td>yes</td>\n",
              "      <td>no</td>\n",
              "      <td>2.0</td>\n",
              "      <td>3.0</td>\n",
              "      <td>Sometimes</td>\n",
              "      <td>no</td>\n",
              "      <td>2.0</td>\n",
              "      <td>no</td>\n",
              "      <td>2.0</td>\n",
              "      <td>1.0</td>\n",
              "      <td>Frequently</td>\n",
              "      <td>Public_Transportation</td>\n",
              "      <td>Normal_Weight</td>\n",
              "    </tr>\n",
              "    <tr>\n",
              "      <th>3</th>\n",
              "      <td>Male</td>\n",
              "      <td>27.0</td>\n",
              "      <td>1.80</td>\n",
              "      <td>87.0</td>\n",
              "      <td>no</td>\n",
              "      <td>no</td>\n",
              "      <td>3.0</td>\n",
              "      <td>3.0</td>\n",
              "      <td>Sometimes</td>\n",
              "      <td>no</td>\n",
              "      <td>2.0</td>\n",
              "      <td>no</td>\n",
              "      <td>2.0</td>\n",
              "      <td>0.0</td>\n",
              "      <td>Frequently</td>\n",
              "      <td>Walking</td>\n",
              "      <td>Overweight_Level_I</td>\n",
              "    </tr>\n",
              "    <tr>\n",
              "      <th>4</th>\n",
              "      <td>Male</td>\n",
              "      <td>22.0</td>\n",
              "      <td>1.78</td>\n",
              "      <td>89.8</td>\n",
              "      <td>no</td>\n",
              "      <td>no</td>\n",
              "      <td>2.0</td>\n",
              "      <td>1.0</td>\n",
              "      <td>Sometimes</td>\n",
              "      <td>no</td>\n",
              "      <td>2.0</td>\n",
              "      <td>no</td>\n",
              "      <td>0.0</td>\n",
              "      <td>0.0</td>\n",
              "      <td>Sometimes</td>\n",
              "      <td>Public_Transportation</td>\n",
              "      <td>Overweight_Level_II</td>\n",
              "    </tr>\n",
              "  </tbody>\n",
              "</table>\n",
              "</div>"
            ],
            "text/plain": [
              "   Gender   Age  Height  ...        CALC                 MTRANS           NObeyesdad\n",
              "0  Female  21.0    1.62  ...          no  Public_Transportation        Normal_Weight\n",
              "1  Female  21.0    1.52  ...   Sometimes  Public_Transportation        Normal_Weight\n",
              "2    Male  23.0    1.80  ...  Frequently  Public_Transportation        Normal_Weight\n",
              "3    Male  27.0    1.80  ...  Frequently                Walking   Overweight_Level_I\n",
              "4    Male  22.0    1.78  ...   Sometimes  Public_Transportation  Overweight_Level_II\n",
              "\n",
              "[5 rows x 17 columns]"
            ]
          },
          "metadata": {},
          "execution_count": 1
        }
      ]
    },
    {
      "cell_type": "code",
      "metadata": {
        "colab": {
          "base_uri": "https://localhost:8080/"
        },
        "id": "aacdf62c",
        "outputId": "838aa09f-ad98-456c-edd3-358769303fca"
      },
      "source": [
        "from sklearn import preprocessing\n",
        "le = preprocessing.LabelEncoder()\n",
        "df.info()"
      ],
      "id": "aacdf62c",
      "execution_count": null,
      "outputs": [
        {
          "output_type": "stream",
          "name": "stdout",
          "text": [
            "<class 'pandas.core.frame.DataFrame'>\n",
            "RangeIndex: 2111 entries, 0 to 2110\n",
            "Data columns (total 17 columns):\n",
            " #   Column                          Non-Null Count  Dtype  \n",
            "---  ------                          --------------  -----  \n",
            " 0   Gender                          2111 non-null   object \n",
            " 1   Age                             2111 non-null   float64\n",
            " 2   Height                          2111 non-null   float64\n",
            " 3   Weight                          2111 non-null   float64\n",
            " 4   family_history_with_overweight  2111 non-null   object \n",
            " 5   FAVC                            2111 non-null   object \n",
            " 6   FCVC                            2111 non-null   float64\n",
            " 7   NCP                             2111 non-null   float64\n",
            " 8   CAEC                            2111 non-null   object \n",
            " 9   SMOKE                           2111 non-null   object \n",
            " 10  CH2O                            2111 non-null   float64\n",
            " 11  SCC                             2111 non-null   object \n",
            " 12  FAF                             2111 non-null   float64\n",
            " 13  TUE                             2111 non-null   float64\n",
            " 14  CALC                            2111 non-null   object \n",
            " 15  MTRANS                          2111 non-null   object \n",
            " 16  NObeyesdad                      2111 non-null   object \n",
            "dtypes: float64(8), object(9)\n",
            "memory usage: 280.5+ KB\n"
          ]
        }
      ]
    },
    {
      "cell_type": "code",
      "metadata": {
        "id": "V0nPIszRgZ5j"
      },
      "source": [
        "df = df.drop_duplicates()"
      ],
      "id": "V0nPIszRgZ5j",
      "execution_count": null,
      "outputs": []
    },
    {
      "cell_type": "code",
      "metadata": {
        "colab": {
          "base_uri": "https://localhost:8080/"
        },
        "id": "iVM9QuRhg6OR",
        "outputId": "72c71683-e0f8-4aee-a993-5f70891bcff4"
      },
      "source": [
        "sum(df.duplicated())"
      ],
      "id": "iVM9QuRhg6OR",
      "execution_count": null,
      "outputs": [
        {
          "output_type": "execute_result",
          "data": {
            "text/plain": [
              "0"
            ]
          },
          "metadata": {},
          "execution_count": 4
        }
      ]
    },
    {
      "cell_type": "code",
      "metadata": {
        "colab": {
          "base_uri": "https://localhost:8080/",
          "height": 444
        },
        "id": "gCtFPqut2_s9",
        "outputId": "be91ce80-7108-48d7-82f7-4da4450b35cd"
      },
      "source": [
        "df"
      ],
      "id": "gCtFPqut2_s9",
      "execution_count": null,
      "outputs": [
        {
          "output_type": "execute_result",
          "data": {
            "text/html": [
              "<div>\n",
              "<style scoped>\n",
              "    .dataframe tbody tr th:only-of-type {\n",
              "        vertical-align: middle;\n",
              "    }\n",
              "\n",
              "    .dataframe tbody tr th {\n",
              "        vertical-align: top;\n",
              "    }\n",
              "\n",
              "    .dataframe thead th {\n",
              "        text-align: right;\n",
              "    }\n",
              "</style>\n",
              "<table border=\"1\" class=\"dataframe\">\n",
              "  <thead>\n",
              "    <tr style=\"text-align: right;\">\n",
              "      <th></th>\n",
              "      <th>Gender</th>\n",
              "      <th>Age</th>\n",
              "      <th>Height</th>\n",
              "      <th>Weight</th>\n",
              "      <th>family_history_with_overweight</th>\n",
              "      <th>FAVC</th>\n",
              "      <th>FCVC</th>\n",
              "      <th>NCP</th>\n",
              "      <th>CAEC</th>\n",
              "      <th>SMOKE</th>\n",
              "      <th>CH2O</th>\n",
              "      <th>SCC</th>\n",
              "      <th>FAF</th>\n",
              "      <th>TUE</th>\n",
              "      <th>CALC</th>\n",
              "      <th>MTRANS</th>\n",
              "      <th>NObeyesdad</th>\n",
              "    </tr>\n",
              "  </thead>\n",
              "  <tbody>\n",
              "    <tr>\n",
              "      <th>0</th>\n",
              "      <td>Female</td>\n",
              "      <td>21.000000</td>\n",
              "      <td>1.620000</td>\n",
              "      <td>64.000000</td>\n",
              "      <td>yes</td>\n",
              "      <td>no</td>\n",
              "      <td>2.0</td>\n",
              "      <td>3.0</td>\n",
              "      <td>Sometimes</td>\n",
              "      <td>no</td>\n",
              "      <td>2.000000</td>\n",
              "      <td>no</td>\n",
              "      <td>0.000000</td>\n",
              "      <td>1.000000</td>\n",
              "      <td>no</td>\n",
              "      <td>Public_Transportation</td>\n",
              "      <td>Normal_Weight</td>\n",
              "    </tr>\n",
              "    <tr>\n",
              "      <th>1</th>\n",
              "      <td>Female</td>\n",
              "      <td>21.000000</td>\n",
              "      <td>1.520000</td>\n",
              "      <td>56.000000</td>\n",
              "      <td>yes</td>\n",
              "      <td>no</td>\n",
              "      <td>3.0</td>\n",
              "      <td>3.0</td>\n",
              "      <td>Sometimes</td>\n",
              "      <td>yes</td>\n",
              "      <td>3.000000</td>\n",
              "      <td>yes</td>\n",
              "      <td>3.000000</td>\n",
              "      <td>0.000000</td>\n",
              "      <td>Sometimes</td>\n",
              "      <td>Public_Transportation</td>\n",
              "      <td>Normal_Weight</td>\n",
              "    </tr>\n",
              "    <tr>\n",
              "      <th>2</th>\n",
              "      <td>Male</td>\n",
              "      <td>23.000000</td>\n",
              "      <td>1.800000</td>\n",
              "      <td>77.000000</td>\n",
              "      <td>yes</td>\n",
              "      <td>no</td>\n",
              "      <td>2.0</td>\n",
              "      <td>3.0</td>\n",
              "      <td>Sometimes</td>\n",
              "      <td>no</td>\n",
              "      <td>2.000000</td>\n",
              "      <td>no</td>\n",
              "      <td>2.000000</td>\n",
              "      <td>1.000000</td>\n",
              "      <td>Frequently</td>\n",
              "      <td>Public_Transportation</td>\n",
              "      <td>Normal_Weight</td>\n",
              "    </tr>\n",
              "    <tr>\n",
              "      <th>3</th>\n",
              "      <td>Male</td>\n",
              "      <td>27.000000</td>\n",
              "      <td>1.800000</td>\n",
              "      <td>87.000000</td>\n",
              "      <td>no</td>\n",
              "      <td>no</td>\n",
              "      <td>3.0</td>\n",
              "      <td>3.0</td>\n",
              "      <td>Sometimes</td>\n",
              "      <td>no</td>\n",
              "      <td>2.000000</td>\n",
              "      <td>no</td>\n",
              "      <td>2.000000</td>\n",
              "      <td>0.000000</td>\n",
              "      <td>Frequently</td>\n",
              "      <td>Walking</td>\n",
              "      <td>Overweight_Level_I</td>\n",
              "    </tr>\n",
              "    <tr>\n",
              "      <th>4</th>\n",
              "      <td>Male</td>\n",
              "      <td>22.000000</td>\n",
              "      <td>1.780000</td>\n",
              "      <td>89.800000</td>\n",
              "      <td>no</td>\n",
              "      <td>no</td>\n",
              "      <td>2.0</td>\n",
              "      <td>1.0</td>\n",
              "      <td>Sometimes</td>\n",
              "      <td>no</td>\n",
              "      <td>2.000000</td>\n",
              "      <td>no</td>\n",
              "      <td>0.000000</td>\n",
              "      <td>0.000000</td>\n",
              "      <td>Sometimes</td>\n",
              "      <td>Public_Transportation</td>\n",
              "      <td>Overweight_Level_II</td>\n",
              "    </tr>\n",
              "    <tr>\n",
              "      <th>...</th>\n",
              "      <td>...</td>\n",
              "      <td>...</td>\n",
              "      <td>...</td>\n",
              "      <td>...</td>\n",
              "      <td>...</td>\n",
              "      <td>...</td>\n",
              "      <td>...</td>\n",
              "      <td>...</td>\n",
              "      <td>...</td>\n",
              "      <td>...</td>\n",
              "      <td>...</td>\n",
              "      <td>...</td>\n",
              "      <td>...</td>\n",
              "      <td>...</td>\n",
              "      <td>...</td>\n",
              "      <td>...</td>\n",
              "      <td>...</td>\n",
              "    </tr>\n",
              "    <tr>\n",
              "      <th>2106</th>\n",
              "      <td>Female</td>\n",
              "      <td>20.976842</td>\n",
              "      <td>1.710730</td>\n",
              "      <td>131.408528</td>\n",
              "      <td>yes</td>\n",
              "      <td>yes</td>\n",
              "      <td>3.0</td>\n",
              "      <td>3.0</td>\n",
              "      <td>Sometimes</td>\n",
              "      <td>no</td>\n",
              "      <td>1.728139</td>\n",
              "      <td>no</td>\n",
              "      <td>1.676269</td>\n",
              "      <td>0.906247</td>\n",
              "      <td>Sometimes</td>\n",
              "      <td>Public_Transportation</td>\n",
              "      <td>Obesity_Type_III</td>\n",
              "    </tr>\n",
              "    <tr>\n",
              "      <th>2107</th>\n",
              "      <td>Female</td>\n",
              "      <td>21.982942</td>\n",
              "      <td>1.748584</td>\n",
              "      <td>133.742943</td>\n",
              "      <td>yes</td>\n",
              "      <td>yes</td>\n",
              "      <td>3.0</td>\n",
              "      <td>3.0</td>\n",
              "      <td>Sometimes</td>\n",
              "      <td>no</td>\n",
              "      <td>2.005130</td>\n",
              "      <td>no</td>\n",
              "      <td>1.341390</td>\n",
              "      <td>0.599270</td>\n",
              "      <td>Sometimes</td>\n",
              "      <td>Public_Transportation</td>\n",
              "      <td>Obesity_Type_III</td>\n",
              "    </tr>\n",
              "    <tr>\n",
              "      <th>2108</th>\n",
              "      <td>Female</td>\n",
              "      <td>22.524036</td>\n",
              "      <td>1.752206</td>\n",
              "      <td>133.689352</td>\n",
              "      <td>yes</td>\n",
              "      <td>yes</td>\n",
              "      <td>3.0</td>\n",
              "      <td>3.0</td>\n",
              "      <td>Sometimes</td>\n",
              "      <td>no</td>\n",
              "      <td>2.054193</td>\n",
              "      <td>no</td>\n",
              "      <td>1.414209</td>\n",
              "      <td>0.646288</td>\n",
              "      <td>Sometimes</td>\n",
              "      <td>Public_Transportation</td>\n",
              "      <td>Obesity_Type_III</td>\n",
              "    </tr>\n",
              "    <tr>\n",
              "      <th>2109</th>\n",
              "      <td>Female</td>\n",
              "      <td>24.361936</td>\n",
              "      <td>1.739450</td>\n",
              "      <td>133.346641</td>\n",
              "      <td>yes</td>\n",
              "      <td>yes</td>\n",
              "      <td>3.0</td>\n",
              "      <td>3.0</td>\n",
              "      <td>Sometimes</td>\n",
              "      <td>no</td>\n",
              "      <td>2.852339</td>\n",
              "      <td>no</td>\n",
              "      <td>1.139107</td>\n",
              "      <td>0.586035</td>\n",
              "      <td>Sometimes</td>\n",
              "      <td>Public_Transportation</td>\n",
              "      <td>Obesity_Type_III</td>\n",
              "    </tr>\n",
              "    <tr>\n",
              "      <th>2110</th>\n",
              "      <td>Female</td>\n",
              "      <td>23.664709</td>\n",
              "      <td>1.738836</td>\n",
              "      <td>133.472641</td>\n",
              "      <td>yes</td>\n",
              "      <td>yes</td>\n",
              "      <td>3.0</td>\n",
              "      <td>3.0</td>\n",
              "      <td>Sometimes</td>\n",
              "      <td>no</td>\n",
              "      <td>2.863513</td>\n",
              "      <td>no</td>\n",
              "      <td>1.026452</td>\n",
              "      <td>0.714137</td>\n",
              "      <td>Sometimes</td>\n",
              "      <td>Public_Transportation</td>\n",
              "      <td>Obesity_Type_III</td>\n",
              "    </tr>\n",
              "  </tbody>\n",
              "</table>\n",
              "<p>2087 rows × 17 columns</p>\n",
              "</div>"
            ],
            "text/plain": [
              "      Gender        Age  ...                 MTRANS           NObeyesdad\n",
              "0     Female  21.000000  ...  Public_Transportation        Normal_Weight\n",
              "1     Female  21.000000  ...  Public_Transportation        Normal_Weight\n",
              "2       Male  23.000000  ...  Public_Transportation        Normal_Weight\n",
              "3       Male  27.000000  ...                Walking   Overweight_Level_I\n",
              "4       Male  22.000000  ...  Public_Transportation  Overweight_Level_II\n",
              "...      ...        ...  ...                    ...                  ...\n",
              "2106  Female  20.976842  ...  Public_Transportation     Obesity_Type_III\n",
              "2107  Female  21.982942  ...  Public_Transportation     Obesity_Type_III\n",
              "2108  Female  22.524036  ...  Public_Transportation     Obesity_Type_III\n",
              "2109  Female  24.361936  ...  Public_Transportation     Obesity_Type_III\n",
              "2110  Female  23.664709  ...  Public_Transportation     Obesity_Type_III\n",
              "\n",
              "[2087 rows x 17 columns]"
            ]
          },
          "metadata": {},
          "execution_count": 5
        }
      ]
    },
    {
      "cell_type": "code",
      "source": [
        "import matplotlib.pyplot as plt\n",
        "import seaborn as sns"
      ],
      "metadata": {
        "id": "RsGW_21Jbi6i"
      },
      "id": "RsGW_21Jbi6i",
      "execution_count": null,
      "outputs": []
    },
    {
      "cell_type": "code",
      "metadata": {
        "id": "9f53cdae"
      },
      "source": [
        "Gender=le.fit_transform(df['Gender'])\n",
        "Age=df['Age']\n",
        "Height=df['Height']\n",
        "Weight=df['Weight']\n",
        "Family_history=le.fit_transform(df['family_history_with_overweight'])\n",
        "FAVC=le.fit_transform(df['FAVC'])\n",
        "FCVC=df['FCVC']\n",
        "NCP=df['NCP']\n",
        "CAEC=le.fit_transform(df['CAEC'])\n",
        "SMOKE=le.fit_transform(df['SMOKE'])\n",
        "CH2O=df['CH2O']\n",
        "SCC=le.fit_transform(df['SCC'])\n",
        "FAF=df['FAF'] \n",
        "TUE=df['TUE']\n",
        "CALC=le.fit_transform(df['CALC'])\n",
        "MTRANS=le.fit_transform(df['MTRANS'])\n",
        "NObeyesdad=le.fit_transform(df['NObeyesdad'])"
      ],
      "id": "9f53cdae",
      "execution_count": null,
      "outputs": []
    },
    {
      "cell_type": "code",
      "metadata": {
        "id": "8acb34f5"
      },
      "source": [
        "data={\n",
        "    \"Gender\":Gender,\n",
        "    \"Age\":Age,\n",
        "    \"Height\":Height,\n",
        "    \"Weight\":Weight,\n",
        "    \"family_history\":Family_history,\n",
        "    \"FAVC\":FAVC,\n",
        "    \"FCVC\":FCVC,\n",
        "    \"NCP\":NCP,\n",
        "    \"CAEC\":CAEC,\n",
        "    \"SMOKE\":SMOKE,\n",
        "    \"CH2O\":CH2O,\n",
        "    \"SCC\":SCC,\n",
        "    \"FAF\":FAF,\n",
        "    \"TUE\":TUE,\n",
        "    \"CALC\":CALC,\n",
        "    \"MTRANS\":MTRANS,\n",
        "    \"NObeyesdad\":NObeyesdad\n",
        "}"
      ],
      "id": "8acb34f5",
      "execution_count": null,
      "outputs": []
    },
    {
      "cell_type": "code",
      "metadata": {
        "colab": {
          "base_uri": "https://localhost:8080/",
          "height": 206
        },
        "id": "860bee17",
        "outputId": "fc57156a-1351-43b1-ea8b-986190d4818f"
      },
      "source": [
        "dataset=pd.DataFrame(data)\n",
        "dataset.head()\n",
        "#dataset.info()"
      ],
      "id": "860bee17",
      "execution_count": null,
      "outputs": [
        {
          "output_type": "execute_result",
          "data": {
            "text/html": [
              "<div>\n",
              "<style scoped>\n",
              "    .dataframe tbody tr th:only-of-type {\n",
              "        vertical-align: middle;\n",
              "    }\n",
              "\n",
              "    .dataframe tbody tr th {\n",
              "        vertical-align: top;\n",
              "    }\n",
              "\n",
              "    .dataframe thead th {\n",
              "        text-align: right;\n",
              "    }\n",
              "</style>\n",
              "<table border=\"1\" class=\"dataframe\">\n",
              "  <thead>\n",
              "    <tr style=\"text-align: right;\">\n",
              "      <th></th>\n",
              "      <th>Gender</th>\n",
              "      <th>Age</th>\n",
              "      <th>Height</th>\n",
              "      <th>Weight</th>\n",
              "      <th>family_history</th>\n",
              "      <th>FAVC</th>\n",
              "      <th>FCVC</th>\n",
              "      <th>NCP</th>\n",
              "      <th>CAEC</th>\n",
              "      <th>SMOKE</th>\n",
              "      <th>CH2O</th>\n",
              "      <th>SCC</th>\n",
              "      <th>FAF</th>\n",
              "      <th>TUE</th>\n",
              "      <th>CALC</th>\n",
              "      <th>MTRANS</th>\n",
              "      <th>NObeyesdad</th>\n",
              "    </tr>\n",
              "  </thead>\n",
              "  <tbody>\n",
              "    <tr>\n",
              "      <th>0</th>\n",
              "      <td>0</td>\n",
              "      <td>21.0</td>\n",
              "      <td>1.62</td>\n",
              "      <td>64.0</td>\n",
              "      <td>1</td>\n",
              "      <td>0</td>\n",
              "      <td>2.0</td>\n",
              "      <td>3.0</td>\n",
              "      <td>2</td>\n",
              "      <td>0</td>\n",
              "      <td>2.0</td>\n",
              "      <td>0</td>\n",
              "      <td>0.0</td>\n",
              "      <td>1.0</td>\n",
              "      <td>3</td>\n",
              "      <td>3</td>\n",
              "      <td>1</td>\n",
              "    </tr>\n",
              "    <tr>\n",
              "      <th>1</th>\n",
              "      <td>0</td>\n",
              "      <td>21.0</td>\n",
              "      <td>1.52</td>\n",
              "      <td>56.0</td>\n",
              "      <td>1</td>\n",
              "      <td>0</td>\n",
              "      <td>3.0</td>\n",
              "      <td>3.0</td>\n",
              "      <td>2</td>\n",
              "      <td>1</td>\n",
              "      <td>3.0</td>\n",
              "      <td>1</td>\n",
              "      <td>3.0</td>\n",
              "      <td>0.0</td>\n",
              "      <td>2</td>\n",
              "      <td>3</td>\n",
              "      <td>1</td>\n",
              "    </tr>\n",
              "    <tr>\n",
              "      <th>2</th>\n",
              "      <td>1</td>\n",
              "      <td>23.0</td>\n",
              "      <td>1.80</td>\n",
              "      <td>77.0</td>\n",
              "      <td>1</td>\n",
              "      <td>0</td>\n",
              "      <td>2.0</td>\n",
              "      <td>3.0</td>\n",
              "      <td>2</td>\n",
              "      <td>0</td>\n",
              "      <td>2.0</td>\n",
              "      <td>0</td>\n",
              "      <td>2.0</td>\n",
              "      <td>1.0</td>\n",
              "      <td>1</td>\n",
              "      <td>3</td>\n",
              "      <td>1</td>\n",
              "    </tr>\n",
              "    <tr>\n",
              "      <th>3</th>\n",
              "      <td>1</td>\n",
              "      <td>27.0</td>\n",
              "      <td>1.80</td>\n",
              "      <td>87.0</td>\n",
              "      <td>0</td>\n",
              "      <td>0</td>\n",
              "      <td>3.0</td>\n",
              "      <td>3.0</td>\n",
              "      <td>2</td>\n",
              "      <td>0</td>\n",
              "      <td>2.0</td>\n",
              "      <td>0</td>\n",
              "      <td>2.0</td>\n",
              "      <td>0.0</td>\n",
              "      <td>1</td>\n",
              "      <td>4</td>\n",
              "      <td>5</td>\n",
              "    </tr>\n",
              "    <tr>\n",
              "      <th>4</th>\n",
              "      <td>1</td>\n",
              "      <td>22.0</td>\n",
              "      <td>1.78</td>\n",
              "      <td>89.8</td>\n",
              "      <td>0</td>\n",
              "      <td>0</td>\n",
              "      <td>2.0</td>\n",
              "      <td>1.0</td>\n",
              "      <td>2</td>\n",
              "      <td>0</td>\n",
              "      <td>2.0</td>\n",
              "      <td>0</td>\n",
              "      <td>0.0</td>\n",
              "      <td>0.0</td>\n",
              "      <td>2</td>\n",
              "      <td>3</td>\n",
              "      <td>6</td>\n",
              "    </tr>\n",
              "  </tbody>\n",
              "</table>\n",
              "</div>"
            ],
            "text/plain": [
              "   Gender   Age  Height  Weight  ...  TUE  CALC  MTRANS  NObeyesdad\n",
              "0       0  21.0    1.62    64.0  ...  1.0     3       3           1\n",
              "1       0  21.0    1.52    56.0  ...  0.0     2       3           1\n",
              "2       1  23.0    1.80    77.0  ...  1.0     1       3           1\n",
              "3       1  27.0    1.80    87.0  ...  0.0     1       4           5\n",
              "4       1  22.0    1.78    89.8  ...  0.0     2       3           6\n",
              "\n",
              "[5 rows x 17 columns]"
            ]
          },
          "metadata": {},
          "execution_count": 19
        }
      ]
    },
    {
      "cell_type": "code",
      "metadata": {
        "colab": {
          "base_uri": "https://localhost:8080/",
          "height": 623
        },
        "id": "f84af2e8",
        "outputId": "cbde33df-844e-42e9-a675-6e755498a786"
      },
      "source": [
        "#Melihat informasi data \n",
        "dataset.info()\n",
        "\n",
        "#Variabel independen untuk nilai x\n",
        "x = dataset.drop([\"NObeyesdad\"], axis = 1)\n",
        "x.head()"
      ],
      "id": "f84af2e8",
      "execution_count": null,
      "outputs": [
        {
          "output_type": "stream",
          "name": "stdout",
          "text": [
            "<class 'pandas.core.frame.DataFrame'>\n",
            "Int64Index: 2087 entries, 0 to 2110\n",
            "Data columns (total 17 columns):\n",
            " #   Column          Non-Null Count  Dtype  \n",
            "---  ------          --------------  -----  \n",
            " 0   Gender          2087 non-null   int64  \n",
            " 1   Age             2087 non-null   float64\n",
            " 2   Height          2087 non-null   float64\n",
            " 3   Weight          2087 non-null   float64\n",
            " 4   family_history  2087 non-null   int64  \n",
            " 5   FAVC            2087 non-null   int64  \n",
            " 6   FCVC            2087 non-null   float64\n",
            " 7   NCP             2087 non-null   float64\n",
            " 8   CAEC            2087 non-null   int64  \n",
            " 9   SMOKE           2087 non-null   int64  \n",
            " 10  CH2O            2087 non-null   float64\n",
            " 11  SCC             2087 non-null   int64  \n",
            " 12  FAF             2087 non-null   float64\n",
            " 13  TUE             2087 non-null   float64\n",
            " 14  CALC            2087 non-null   int64  \n",
            " 15  MTRANS          2087 non-null   int64  \n",
            " 16  NObeyesdad      2087 non-null   int64  \n",
            "dtypes: float64(8), int64(9)\n",
            "memory usage: 293.5 KB\n"
          ]
        },
        {
          "output_type": "execute_result",
          "data": {
            "text/html": [
              "<div>\n",
              "<style scoped>\n",
              "    .dataframe tbody tr th:only-of-type {\n",
              "        vertical-align: middle;\n",
              "    }\n",
              "\n",
              "    .dataframe tbody tr th {\n",
              "        vertical-align: top;\n",
              "    }\n",
              "\n",
              "    .dataframe thead th {\n",
              "        text-align: right;\n",
              "    }\n",
              "</style>\n",
              "<table border=\"1\" class=\"dataframe\">\n",
              "  <thead>\n",
              "    <tr style=\"text-align: right;\">\n",
              "      <th></th>\n",
              "      <th>Gender</th>\n",
              "      <th>Age</th>\n",
              "      <th>Height</th>\n",
              "      <th>Weight</th>\n",
              "      <th>family_history</th>\n",
              "      <th>FAVC</th>\n",
              "      <th>FCVC</th>\n",
              "      <th>NCP</th>\n",
              "      <th>CAEC</th>\n",
              "      <th>SMOKE</th>\n",
              "      <th>CH2O</th>\n",
              "      <th>SCC</th>\n",
              "      <th>FAF</th>\n",
              "      <th>TUE</th>\n",
              "      <th>CALC</th>\n",
              "      <th>MTRANS</th>\n",
              "    </tr>\n",
              "  </thead>\n",
              "  <tbody>\n",
              "    <tr>\n",
              "      <th>0</th>\n",
              "      <td>0</td>\n",
              "      <td>21.0</td>\n",
              "      <td>1.62</td>\n",
              "      <td>64.0</td>\n",
              "      <td>1</td>\n",
              "      <td>0</td>\n",
              "      <td>2.0</td>\n",
              "      <td>3.0</td>\n",
              "      <td>2</td>\n",
              "      <td>0</td>\n",
              "      <td>2.0</td>\n",
              "      <td>0</td>\n",
              "      <td>0.0</td>\n",
              "      <td>1.0</td>\n",
              "      <td>3</td>\n",
              "      <td>3</td>\n",
              "    </tr>\n",
              "    <tr>\n",
              "      <th>1</th>\n",
              "      <td>0</td>\n",
              "      <td>21.0</td>\n",
              "      <td>1.52</td>\n",
              "      <td>56.0</td>\n",
              "      <td>1</td>\n",
              "      <td>0</td>\n",
              "      <td>3.0</td>\n",
              "      <td>3.0</td>\n",
              "      <td>2</td>\n",
              "      <td>1</td>\n",
              "      <td>3.0</td>\n",
              "      <td>1</td>\n",
              "      <td>3.0</td>\n",
              "      <td>0.0</td>\n",
              "      <td>2</td>\n",
              "      <td>3</td>\n",
              "    </tr>\n",
              "    <tr>\n",
              "      <th>2</th>\n",
              "      <td>1</td>\n",
              "      <td>23.0</td>\n",
              "      <td>1.80</td>\n",
              "      <td>77.0</td>\n",
              "      <td>1</td>\n",
              "      <td>0</td>\n",
              "      <td>2.0</td>\n",
              "      <td>3.0</td>\n",
              "      <td>2</td>\n",
              "      <td>0</td>\n",
              "      <td>2.0</td>\n",
              "      <td>0</td>\n",
              "      <td>2.0</td>\n",
              "      <td>1.0</td>\n",
              "      <td>1</td>\n",
              "      <td>3</td>\n",
              "    </tr>\n",
              "    <tr>\n",
              "      <th>3</th>\n",
              "      <td>1</td>\n",
              "      <td>27.0</td>\n",
              "      <td>1.80</td>\n",
              "      <td>87.0</td>\n",
              "      <td>0</td>\n",
              "      <td>0</td>\n",
              "      <td>3.0</td>\n",
              "      <td>3.0</td>\n",
              "      <td>2</td>\n",
              "      <td>0</td>\n",
              "      <td>2.0</td>\n",
              "      <td>0</td>\n",
              "      <td>2.0</td>\n",
              "      <td>0.0</td>\n",
              "      <td>1</td>\n",
              "      <td>4</td>\n",
              "    </tr>\n",
              "    <tr>\n",
              "      <th>4</th>\n",
              "      <td>1</td>\n",
              "      <td>22.0</td>\n",
              "      <td>1.78</td>\n",
              "      <td>89.8</td>\n",
              "      <td>0</td>\n",
              "      <td>0</td>\n",
              "      <td>2.0</td>\n",
              "      <td>1.0</td>\n",
              "      <td>2</td>\n",
              "      <td>0</td>\n",
              "      <td>2.0</td>\n",
              "      <td>0</td>\n",
              "      <td>0.0</td>\n",
              "      <td>0.0</td>\n",
              "      <td>2</td>\n",
              "      <td>3</td>\n",
              "    </tr>\n",
              "  </tbody>\n",
              "</table>\n",
              "</div>"
            ],
            "text/plain": [
              "   Gender   Age  Height  Weight  family_history  ...  SCC  FAF  TUE  CALC  MTRANS\n",
              "0       0  21.0    1.62    64.0               1  ...    0  0.0  1.0     3       3\n",
              "1       0  21.0    1.52    56.0               1  ...    1  3.0  0.0     2       3\n",
              "2       1  23.0    1.80    77.0               1  ...    0  2.0  1.0     1       3\n",
              "3       1  27.0    1.80    87.0               0  ...    0  2.0  0.0     1       4\n",
              "4       1  22.0    1.78    89.8               0  ...    0  0.0  0.0     2       3\n",
              "\n",
              "[5 rows x 16 columns]"
            ]
          },
          "metadata": {},
          "execution_count": 16
        }
      ]
    },
    {
      "cell_type": "code",
      "source": [
        "df.describe()"
      ],
      "metadata": {
        "colab": {
          "base_uri": "https://localhost:8080/",
          "height": 300
        },
        "id": "1kbe9FcgkKtt",
        "outputId": "f8f2e4df-8b63-4d4a-87fd-af4d890cf8c7"
      },
      "id": "1kbe9FcgkKtt",
      "execution_count": null,
      "outputs": [
        {
          "output_type": "execute_result",
          "data": {
            "text/html": [
              "<div>\n",
              "<style scoped>\n",
              "    .dataframe tbody tr th:only-of-type {\n",
              "        vertical-align: middle;\n",
              "    }\n",
              "\n",
              "    .dataframe tbody tr th {\n",
              "        vertical-align: top;\n",
              "    }\n",
              "\n",
              "    .dataframe thead th {\n",
              "        text-align: right;\n",
              "    }\n",
              "</style>\n",
              "<table border=\"1\" class=\"dataframe\">\n",
              "  <thead>\n",
              "    <tr style=\"text-align: right;\">\n",
              "      <th></th>\n",
              "      <th>Age</th>\n",
              "      <th>Height</th>\n",
              "      <th>Weight</th>\n",
              "      <th>FCVC</th>\n",
              "      <th>NCP</th>\n",
              "      <th>CH2O</th>\n",
              "      <th>FAF</th>\n",
              "      <th>TUE</th>\n",
              "    </tr>\n",
              "  </thead>\n",
              "  <tbody>\n",
              "    <tr>\n",
              "      <th>count</th>\n",
              "      <td>2087.000000</td>\n",
              "      <td>2087.000000</td>\n",
              "      <td>2087.000000</td>\n",
              "      <td>2087.000000</td>\n",
              "      <td>2087.000000</td>\n",
              "      <td>2087.000000</td>\n",
              "      <td>2087.000000</td>\n",
              "      <td>2087.000000</td>\n",
              "    </tr>\n",
              "    <tr>\n",
              "      <th>mean</th>\n",
              "      <td>24.353090</td>\n",
              "      <td>1.702674</td>\n",
              "      <td>86.858730</td>\n",
              "      <td>2.421466</td>\n",
              "      <td>2.701179</td>\n",
              "      <td>2.004749</td>\n",
              "      <td>1.012812</td>\n",
              "      <td>0.663035</td>\n",
              "    </tr>\n",
              "    <tr>\n",
              "      <th>std</th>\n",
              "      <td>6.368801</td>\n",
              "      <td>0.093186</td>\n",
              "      <td>26.190847</td>\n",
              "      <td>0.534737</td>\n",
              "      <td>0.764614</td>\n",
              "      <td>0.608284</td>\n",
              "      <td>0.853475</td>\n",
              "      <td>0.608153</td>\n",
              "    </tr>\n",
              "    <tr>\n",
              "      <th>min</th>\n",
              "      <td>14.000000</td>\n",
              "      <td>1.450000</td>\n",
              "      <td>39.000000</td>\n",
              "      <td>1.000000</td>\n",
              "      <td>1.000000</td>\n",
              "      <td>1.000000</td>\n",
              "      <td>0.000000</td>\n",
              "      <td>0.000000</td>\n",
              "    </tr>\n",
              "    <tr>\n",
              "      <th>25%</th>\n",
              "      <td>19.915937</td>\n",
              "      <td>1.630178</td>\n",
              "      <td>66.000000</td>\n",
              "      <td>2.000000</td>\n",
              "      <td>2.697467</td>\n",
              "      <td>1.590922</td>\n",
              "      <td>0.124505</td>\n",
              "      <td>0.000000</td>\n",
              "    </tr>\n",
              "    <tr>\n",
              "      <th>50%</th>\n",
              "      <td>22.847618</td>\n",
              "      <td>1.701584</td>\n",
              "      <td>83.101100</td>\n",
              "      <td>2.396265</td>\n",
              "      <td>3.000000</td>\n",
              "      <td>2.000000</td>\n",
              "      <td>1.000000</td>\n",
              "      <td>0.630866</td>\n",
              "    </tr>\n",
              "    <tr>\n",
              "      <th>75%</th>\n",
              "      <td>26.000000</td>\n",
              "      <td>1.769491</td>\n",
              "      <td>108.015907</td>\n",
              "      <td>3.000000</td>\n",
              "      <td>3.000000</td>\n",
              "      <td>2.466193</td>\n",
              "      <td>1.678102</td>\n",
              "      <td>1.000000</td>\n",
              "    </tr>\n",
              "    <tr>\n",
              "      <th>max</th>\n",
              "      <td>61.000000</td>\n",
              "      <td>1.980000</td>\n",
              "      <td>173.000000</td>\n",
              "      <td>3.000000</td>\n",
              "      <td>4.000000</td>\n",
              "      <td>3.000000</td>\n",
              "      <td>3.000000</td>\n",
              "      <td>2.000000</td>\n",
              "    </tr>\n",
              "  </tbody>\n",
              "</table>\n",
              "</div>"
            ],
            "text/plain": [
              "               Age       Height  ...          FAF          TUE\n",
              "count  2087.000000  2087.000000  ...  2087.000000  2087.000000\n",
              "mean     24.353090     1.702674  ...     1.012812     0.663035\n",
              "std       6.368801     0.093186  ...     0.853475     0.608153\n",
              "min      14.000000     1.450000  ...     0.000000     0.000000\n",
              "25%      19.915937     1.630178  ...     0.124505     0.000000\n",
              "50%      22.847618     1.701584  ...     1.000000     0.630866\n",
              "75%      26.000000     1.769491  ...     1.678102     1.000000\n",
              "max      61.000000     1.980000  ...     3.000000     2.000000\n",
              "\n",
              "[8 rows x 8 columns]"
            ]
          },
          "metadata": {},
          "execution_count": 39
        }
      ]
    },
    {
      "cell_type": "code",
      "source": [
        "df.hist(bins=20, figsize=(10,10))\n",
        "plt.show()"
      ],
      "metadata": {
        "colab": {
          "base_uri": "https://localhost:8080/",
          "height": 607
        },
        "id": "m93AdtQbkFu5",
        "outputId": "db9319a0-f7a0-4811-a7a2-85eedf1d2e9b"
      },
      "id": "m93AdtQbkFu5",
      "execution_count": null,
      "outputs": [
        {
          "output_type": "display_data",
          "data": {
            "image/png": "[encoded data removed]",
            "text/plain": [
              "<Figure size 720x720 with 9 Axes>"
            ]
          },
          "metadata": {
            "needs_background": "light"
          }
        }
      ]
    },
    {
      "cell_type": "code",
      "metadata": {
        "id": "fce9cefd"
      },
      "source": [
        "# Memasukkan variabel Y\n",
        "y = []\n",
        "for NObeyesdad in dataset['NObeyesdad']:\n",
        "    y.append(round(NObeyesdad))"
      ],
      "id": "fce9cefd",
      "execution_count": null,
      "outputs": []
    },
    {
      "cell_type": "markdown",
      "metadata": {
        "id": "CmY8-oj979DS"
      },
      "source": [
        "# 1. Menggunakan Data 10-90"
      ],
      "id": "CmY8-oj979DS"
    },
    {
      "cell_type": "code",
      "metadata": {
        "id": "dbIIVOMD79DT"
      },
      "source": [
        "#Import split train test \n",
        "from sklearn.model_selection import train_test_split\n",
        "\n",
        "x_train, x_test, y_train, y_test = train_test_split(x, y, test_size=0.10, random_state=0)"
      ],
      "id": "dbIIVOMD79DT",
      "execution_count": null,
      "outputs": []
    },
    {
      "cell_type": "code",
      "metadata": {
        "id": "xAjHQzUa79DT"
      },
      "source": [
        "#Mengubah skala data dengan mengaktifkan package dan menuliskan syntax\n",
        "\n",
        "from sklearn.preprocessing import StandardScaler\n",
        "\n",
        "scaler = StandardScaler()\n",
        "scaler.fit(x_train)\n",
        "x_train = scaler.transform(x_train)\n",
        "x_test = scaler.transform(x_test)"
      ],
      "id": "xAjHQzUa79DT",
      "execution_count": null,
      "outputs": []
    },
    {
      "cell_type": "code",
      "metadata": {
        "id": "uxSkWkrC79DU"
      },
      "source": [
        "#Memanggil package KNN \n",
        "from sklearn.neighbors import KNeighborsClassifier\n",
        "\n",
        "#Menampilkan hasil nilai akurasi\n",
        "from sklearn.metrics import accuracy_score "
      ],
      "id": "uxSkWkrC79DU",
      "execution_count": null,
      "outputs": []
    },
    {
      "cell_type": "code",
      "metadata": {
        "colab": {
          "base_uri": "https://localhost:8080/",
          "height": 453
        },
        "id": "qBpLABK679DU",
        "outputId": "e7635168-fcc7-4ad7-a5ec-b4bee4d59e90"
      },
      "source": [
        "from statistics import *\n",
        "\n",
        "result = []\n",
        "for i in range (1,11):\n",
        "    knn = KNeighborsClassifier(n_neighbors=i)\n",
        "    knn.fit(x_train, y_train)\n",
        "    #Masukkan prediksi\n",
        "    pred_knn = knn.predict(x_test)\n",
        "    #Nilai prediksi \n",
        "    acurate = accuracy_score(y_test, pred_knn)\n",
        "    print(acurate)\n",
        "    result.append(acurate)\n",
        "plt.plot(result)\n",
        "plt.ylabel(\"Nilai Akurasi\")\n",
        "plt.xlabel(\"Nilai K\")\n",
        "plt.xticks(np.arange(10),('1','2','3','4','5','6','7','8','9','10'))\n",
        "plt.show()"
      ],
      "id": "qBpLABK679DU",
      "execution_count": null,
      "outputs": [
        {
          "output_type": "stream",
          "name": "stdout",
          "text": [
            "0.8660287081339713\n",
            "0.8421052631578947\n",
            "0.8373205741626795\n",
            "0.8229665071770335\n",
            "0.8325358851674641\n",
            "0.8181818181818182\n",
            "0.8086124401913876\n",
            "0.8086124401913876\n",
            "0.8086124401913876\n",
            "0.8133971291866029\n"
          ]
        },
        {
          "output_type": "display_data",
          "data": {
            "image/png": "[encoded data removed]",
            "text/plain": [
              "<Figure size 432x288 with 1 Axes>"
            ]
          },
          "metadata": {
            "needs_background": "light"
          }
        }
      ]
    },
    {
      "cell_type": "code",
      "metadata": {
        "colab": {
          "base_uri": "https://localhost:8080/"
        },
        "id": "S3SswCmtComY",
        "outputId": "f6caf72e-ea88-430e-bca7-d45640931fd5"
      },
      "source": [
        "knn = KNeighborsClassifier(n_neighbors=1)\n",
        "knn.fit(x_train, y_train)"
      ],
      "id": "S3SswCmtComY",
      "execution_count": null,
      "outputs": [
        {
          "output_type": "execute_result",
          "data": {
            "text/plain": [
              "KNeighborsClassifier(n_neighbors=1)"
            ]
          },
          "metadata": {},
          "execution_count": 15
        }
      ]
    },
    {
      "cell_type": "code",
      "metadata": {
        "colab": {
          "base_uri": "https://localhost:8080/"
        },
        "id": "YgCGbJapComZ",
        "outputId": "432cba53-03d9-4600-f1c1-dfd6ba409f4c"
      },
      "source": [
        "#Menentukan hasil prediksi dari x test\n",
        "y_pred = knn.predict(x_test)\n",
        "y_pred"
      ],
      "id": "YgCGbJapComZ",
      "execution_count": null,
      "outputs": [
        {
          "output_type": "execute_result",
          "data": {
            "text/plain": [
              "array([3, 5, 6, 3, 2, 6, 3, 4, 0, 6, 6, 2, 6, 2, 2, 5, 5, 5, 4, 3, 5, 0,\n",
              "       6, 4, 5, 3, 2, 3, 4, 2, 2, 4, 0, 6, 6, 6, 4, 4, 3, 5, 3, 6, 6, 3,\n",
              "       1, 3, 3, 5, 3, 5, 6, 0, 4, 6, 2, 0, 1, 2, 0, 0, 6, 5, 2, 0, 6, 6,\n",
              "       2, 5, 2, 0, 5, 1, 3, 2, 5, 5, 6, 5, 1, 6, 0, 0, 4, 2, 2, 2, 4, 0,\n",
              "       6, 3, 2, 1, 2, 2, 3, 4, 1, 2, 6, 1, 2, 6, 6, 6, 5, 6, 6, 3, 5, 3,\n",
              "       2, 0, 1, 0, 6, 1, 5, 3, 4, 4, 4, 4, 3, 3, 6, 4, 3, 3, 1, 5, 5, 5,\n",
              "       3, 3, 2, 3, 1, 3, 5, 4, 4, 1, 2, 2, 4, 4, 2, 4, 5, 4, 2, 3, 5, 3,\n",
              "       3, 6, 0, 1, 0, 6, 1, 4, 0, 5, 0, 4, 1, 3, 6, 3, 4, 4, 2, 2, 1, 1,\n",
              "       2, 5, 2, 2, 4, 1, 3, 1, 2, 4, 2, 1, 2, 4, 0, 0, 4, 6, 1, 0, 0, 2,\n",
              "       1, 2, 2, 1, 6, 4, 6, 2, 6, 2, 0])"
            ]
          },
          "metadata": {},
          "execution_count": 16
        }
      ]
    },
    {
      "cell_type": "code",
      "metadata": {
        "colab": {
          "base_uri": "https://localhost:8080/"
        },
        "id": "CsFvuy4LComZ",
        "outputId": "d6e54fdd-cf89-4ed6-9397-89d81559ab64"
      },
      "source": [
        "#Menghitung confusion matrix \n",
        "from sklearn.metrics import classification_report, confusion_matrix\n",
        "\n",
        "#Menampilkan confusion matrix\n",
        "print(confusion_matrix(y_test, y_pred))"
      ],
      "id": "CsFvuy4LComZ",
      "execution_count": null,
      "outputs": [
        {
          "output_type": "stream",
          "name": "stdout",
          "text": [
            "[[19  2  0  0  0  0  1]\n",
            " [ 4 17  0  1  0  1  5]\n",
            " [ 0  1 37  0  0  2  2]\n",
            " [ 0  0  0 30  0  0  0]\n",
            " [ 0  0  0  0 30  0  0]\n",
            " [ 0  1  2  0  0 23  1]\n",
            " [ 0  2  1  1  1  0 25]]\n"
          ]
        }
      ]
    },
    {
      "cell_type": "code",
      "metadata": {
        "colab": {
          "base_uri": "https://localhost:8080/"
        },
        "id": "73cumR5hComa",
        "outputId": "0c77fc3c-4dbd-41d6-d0fc-ea19ca6b4c64"
      },
      "source": [
        "#Menampilkan hasil ketepatan prediksi menggunakan nilai precision\n",
        "print(classification_report(y_test, y_pred))\n",
        "\n",
        "#Menampilkan hasil nilai akurasi\n",
        "from sklearn.metrics import accuracy_score \n",
        "accuracy = accuracy_score(y_test, y_pred)\n",
        "print(\"Akurasi = \",accuracy)"
      ],
      "id": "73cumR5hComa",
      "execution_count": null,
      "outputs": [
        {
          "output_type": "stream",
          "name": "stdout",
          "text": [
            "              precision    recall  f1-score   support\n",
            "\n",
            "           0       0.83      0.86      0.84        22\n",
            "           1       0.74      0.61      0.67        28\n",
            "           2       0.93      0.88      0.90        42\n",
            "           3       0.94      1.00      0.97        30\n",
            "           4       0.97      1.00      0.98        30\n",
            "           5       0.88      0.85      0.87        27\n",
            "           6       0.74      0.83      0.78        30\n",
            "\n",
            "    accuracy                           0.87       209\n",
            "   macro avg       0.86      0.86      0.86       209\n",
            "weighted avg       0.87      0.87      0.86       209\n",
            "\n",
            "Akurasi =  0.8660287081339713\n"
          ]
        }
      ]
    },
    {
      "cell_type": "markdown",
      "metadata": {
        "id": "ht_k4Avq646G"
      },
      "source": [
        "# 1. Menggunakan Data 20-80"
      ],
      "id": "ht_k4Avq646G"
    },
    {
      "cell_type": "code",
      "metadata": {
        "id": "ZXOGSh-j646H"
      },
      "source": [
        "#Import split train test \n",
        "from sklearn.model_selection import train_test_split\n",
        "\n",
        "x_train, x_test, y_train, y_test = train_test_split(x, y, test_size=0.20, random_state=0)"
      ],
      "id": "ZXOGSh-j646H",
      "execution_count": null,
      "outputs": []
    },
    {
      "cell_type": "code",
      "metadata": {
        "id": "ENbyJw7m646H"
      },
      "source": [
        "#Mengubah skala data dengan mengaktifkan package dan menuliskan syntax\n",
        "\n",
        "from sklearn.preprocessing import StandardScaler\n",
        "\n",
        "scaler = StandardScaler()\n",
        "scaler.fit(x_train)\n",
        "x_train = scaler.transform(x_train)\n",
        "x_test = scaler.transform(x_test)"
      ],
      "id": "ENbyJw7m646H",
      "execution_count": null,
      "outputs": []
    },
    {
      "cell_type": "code",
      "metadata": {
        "id": "ZIjUeuZJ7OGx"
      },
      "source": [
        "#Memanggil package KNN \n",
        "from sklearn.neighbors import KNeighborsClassifier\n",
        "\n",
        "#Menampilkan hasil nilai akurasi\n",
        "from sklearn.metrics import accuracy_score "
      ],
      "id": "ZIjUeuZJ7OGx",
      "execution_count": null,
      "outputs": []
    },
    {
      "cell_type": "code",
      "metadata": {
        "colab": {
          "base_uri": "https://localhost:8080/",
          "height": 454
        },
        "id": "rAGlxmzH7Srg",
        "outputId": "e87a892e-be76-4cdc-cd71-23d2cf730573"
      },
      "source": [
        "from statistics import *\n",
        "\n",
        "result = []\n",
        "for i in range (1,11):\n",
        "    knn = KNeighborsClassifier(n_neighbors=i)\n",
        "    knn.fit(x_train, y_train)\n",
        "    #Masukkan prediksi\n",
        "    pred_knn = knn.predict(x_test)\n",
        "    #Nilai prediksi \n",
        "    acurate = accuracy_score(y_test, pred_knn)\n",
        "    print(acurate)\n",
        "    result.append(acurate)\n",
        "plt.plot(result)\n",
        "plt.ylabel(\"Nilai Akurasi\")\n",
        "plt.xlabel(\"Nilai K\")\n",
        "plt.xticks(np.arange(10),('1','2','3','4','5','6','7','8','9','10'))\n",
        "plt.show()"
      ],
      "id": "rAGlxmzH7Srg",
      "execution_count": null,
      "outputs": [
        {
          "output_type": "stream",
          "name": "stdout",
          "text": [
            "0.8492822966507177\n",
            "0.8444976076555024\n",
            "0.8301435406698564\n",
            "0.8277511961722488\n",
            "0.8421052631578947\n",
            "0.8349282296650717\n",
            "0.8349282296650717\n",
            "0.8301435406698564\n",
            "0.8325358851674641\n",
            "0.8301435406698564\n"
          ]
        },
        {
          "output_type": "display_data",
          "data": {
            "image/png": "[encoded data removed]",
            "text/plain": [
              "<Figure size 432x288 with 1 Axes>"
            ]
          },
          "metadata": {
            "needs_background": "light"
          }
        }
      ]
    },
    {
      "cell_type": "code",
      "metadata": {
        "colab": {
          "base_uri": "https://localhost:8080/"
        },
        "id": "-rXLwUIsCZXi",
        "outputId": "f33cfc91-46f0-48f8-fb58-858971bb5501"
      },
      "source": [
        "knn = KNeighborsClassifier(n_neighbors=1)\n",
        "knn.fit(x_train, y_train)"
      ],
      "id": "-rXLwUIsCZXi",
      "execution_count": null,
      "outputs": [
        {
          "output_type": "execute_result",
          "data": {
            "text/plain": [
              "KNeighborsClassifier(n_neighbors=1)"
            ]
          },
          "metadata": {},
          "execution_count": 34
        }
      ]
    },
    {
      "cell_type": "code",
      "metadata": {
        "colab": {
          "base_uri": "https://localhost:8080/"
        },
        "id": "V94Svev4CZXj",
        "outputId": "7ca13f10-c7ab-41d8-f693-d4211591e486"
      },
      "source": [
        "#Menentukan hasil prediksi dari x test\n",
        "y_pred = knn.predict(x_test)\n",
        "y_pred"
      ],
      "id": "V94Svev4CZXj",
      "execution_count": null,
      "outputs": [
        {
          "output_type": "execute_result",
          "data": {
            "text/plain": [
              "array([3, 5, 6, 3, 2, 6, 3, 4, 0, 6, 6, 2, 6, 2, 5, 5, 5, 5, 4, 3, 5, 0,\n",
              "       6, 4, 5, 3, 2, 3, 4, 2, 2, 4, 0, 2, 6, 6, 4, 4, 3, 5, 3, 6, 6, 3,\n",
              "       1, 3, 3, 5, 3, 5, 6, 0, 4, 6, 2, 0, 1, 2, 0, 0, 6, 5, 2, 0, 6, 6,\n",
              "       2, 5, 2, 0, 5, 1, 1, 2, 5, 5, 6, 5, 1, 6, 0, 0, 4, 6, 2, 2, 4, 1,\n",
              "       6, 3, 2, 1, 2, 2, 3, 4, 0, 2, 6, 1, 2, 6, 6, 6, 5, 6, 6, 3, 5, 3,\n",
              "       2, 0, 1, 0, 6, 1, 5, 3, 4, 4, 4, 4, 3, 3, 6, 4, 3, 3, 1, 5, 5, 5,\n",
              "       3, 3, 2, 3, 1, 3, 5, 4, 4, 1, 2, 2, 4, 4, 2, 4, 5, 4, 2, 3, 5, 3,\n",
              "       3, 6, 0, 1, 0, 6, 1, 4, 0, 5, 0, 4, 1, 3, 6, 3, 4, 4, 2, 2, 1, 1,\n",
              "       2, 5, 2, 2, 4, 1, 3, 1, 2, 4, 2, 1, 2, 4, 1, 0, 4, 6, 1, 0, 0, 2,\n",
              "       1, 2, 2, 1, 6, 4, 6, 2, 6, 2, 0, 6, 1, 4, 4, 2, 4, 3, 2, 5, 3, 6,\n",
              "       6, 3, 0, 6, 0, 3, 3, 2, 2, 6, 5, 5, 5, 2, 3, 6, 2, 4, 0, 0, 2, 6,\n",
              "       4, 6, 5, 1, 3, 5, 2, 4, 4, 5, 0, 4, 3, 3, 6, 6, 4, 1, 0, 3, 6, 3,\n",
              "       6, 6, 5, 3, 4, 5, 3, 6, 2, 0, 0, 4, 4, 4, 1, 4, 0, 5, 5, 0, 0, 6,\n",
              "       3, 3, 5, 0, 2, 0, 1, 4, 4, 0, 5, 5, 5, 6, 0, 1, 5, 6, 0, 6, 4, 3,\n",
              "       1, 0, 2, 6, 6, 0, 1, 3, 4, 3, 3, 1, 6, 5, 2, 3, 1, 6, 6, 2, 0, 3,\n",
              "       3, 0, 5, 4, 3, 4, 1, 6, 4, 0, 3, 3, 3, 0, 2, 3, 2, 0, 6, 2, 0, 0,\n",
              "       1, 2, 3, 4, 5, 2, 6, 5, 4, 6, 2, 4, 2, 3, 4, 2, 6, 6, 0, 0, 2, 2,\n",
              "       6, 1, 6, 3, 3, 4, 6, 4, 2, 3, 2, 4, 5, 2, 1, 5, 6, 3, 3, 5, 5, 3,\n",
              "       1, 5, 3, 2, 5, 6, 2, 1, 0, 6, 5, 2, 3, 4, 3, 2, 2, 2, 4, 5, 4, 2])"
            ]
          },
          "metadata": {},
          "execution_count": 35
        }
      ]
    },
    {
      "cell_type": "code",
      "metadata": {
        "colab": {
          "base_uri": "https://localhost:8080/"
        },
        "id": "ZYD4PrzBCZXj",
        "outputId": "8121169a-4444-4b5c-9d3f-c50f474e39e2"
      },
      "source": [
        "#Menghitung confusion matrix \n",
        "from sklearn.metrics import classification_report, confusion_matrix\n",
        "\n",
        "#Menampilkan confusion matrix\n",
        "print(confusion_matrix(y_test, y_pred))"
      ],
      "id": "ZYD4PrzBCZXj",
      "execution_count": null,
      "outputs": [
        {
          "output_type": "stream",
          "name": "stdout",
          "text": [
            "[[41  3  0  0  0  1  1]\n",
            " [ 6 29  1  1  0  6  8]\n",
            " [ 1  1 65  1  0  4  3]\n",
            " [ 0  0  1 67  0  0  2]\n",
            " [ 0  0  0  0 60  0  0]\n",
            " [ 1  5  1  0  1 43  5]\n",
            " [ 1  3  4  0  1  1 50]]\n"
          ]
        }
      ]
    },
    {
      "cell_type": "code",
      "metadata": {
        "colab": {
          "base_uri": "https://localhost:8080/"
        },
        "id": "pCSZLxNDCZXj",
        "outputId": "bc31e9bb-3ae4-4d52-f4fd-f529d42e81dd"
      },
      "source": [
        "#Menampilkan hasil ketepatan prediksi menggunakan nilai precision\n",
        "print(classification_report(y_test, y_pred))\n",
        "\n",
        "#Menampilkan hasil nilai akurasi\n",
        "from sklearn.metrics import accuracy_score \n",
        "accuracy = accuracy_score(y_test, y_pred)\n",
        "print(\"Akurasi = \",accuracy)"
      ],
      "id": "pCSZLxNDCZXj",
      "execution_count": null,
      "outputs": [
        {
          "output_type": "stream",
          "name": "stdout",
          "text": [
            "              precision    recall  f1-score   support\n",
            "\n",
            "           0       0.82      0.89      0.85        46\n",
            "           1       0.71      0.57      0.63        51\n",
            "           2       0.90      0.87      0.88        75\n",
            "           3       0.97      0.96      0.96        70\n",
            "           4       0.97      1.00      0.98        60\n",
            "           5       0.78      0.77      0.77        56\n",
            "           6       0.72      0.83      0.78        60\n",
            "\n",
            "    accuracy                           0.85       418\n",
            "   macro avg       0.84      0.84      0.84       418\n",
            "weighted avg       0.85      0.85      0.85       418\n",
            "\n",
            "Akurasi =  0.8492822966507177\n"
          ]
        }
      ]
    },
    {
      "cell_type": "markdown",
      "metadata": {
        "id": "rZZGRi_a8RDw"
      },
      "source": [
        "# 1. Menggunakan Data 30-70"
      ],
      "id": "rZZGRi_a8RDw"
    },
    {
      "cell_type": "code",
      "metadata": {
        "id": "45ldCEMA8RDx"
      },
      "source": [
        "#Import split train test \n",
        "from sklearn.model_selection import train_test_split\n",
        "\n",
        "x_train, x_test, y_train, y_test = train_test_split(x, y, test_size=0.30, random_state=0)"
      ],
      "id": "45ldCEMA8RDx",
      "execution_count": null,
      "outputs": []
    },
    {
      "cell_type": "code",
      "metadata": {
        "id": "Pw3xuXgL8RDy"
      },
      "source": [
        "#Mengubah skala data dengan mengaktifkan package dan menuliskan syntax\n",
        "\n",
        "from sklearn.preprocessing import StandardScaler\n",
        "\n",
        "scaler = StandardScaler()\n",
        "scaler.fit(x_train)\n",
        "x_train = scaler.transform(x_train)\n",
        "x_test = scaler.transform(x_test)"
      ],
      "id": "Pw3xuXgL8RDy",
      "execution_count": null,
      "outputs": []
    },
    {
      "cell_type": "code",
      "metadata": {
        "id": "9T0k_Rrq8RDy"
      },
      "source": [
        "#Memanggil package KNN \n",
        "from sklearn.neighbors import KNeighborsClassifier\n",
        "\n",
        "#Menampilkan hasil nilai akurasi\n",
        "from sklearn.metrics import accuracy_score "
      ],
      "id": "9T0k_Rrq8RDy",
      "execution_count": null,
      "outputs": []
    },
    {
      "cell_type": "code",
      "metadata": {
        "colab": {
          "base_uri": "https://localhost:8080/",
          "height": 453
        },
        "id": "94Wur1UM8RDz",
        "outputId": "8fbd6a3e-2c1a-408e-87be-621ce4405c09"
      },
      "source": [
        "from statistics import *\n",
        "\n",
        "result = []\n",
        "for i in range (1,11):\n",
        "    knn = KNeighborsClassifier(n_neighbors=i)\n",
        "    knn.fit(x_train, y_train)\n",
        "    #Masukkan prediksi\n",
        "    pred_knn = knn.predict(x_test)\n",
        "    #Nilai prediksi \n",
        "    acurate = accuracy_score(y_test, pred_knn)\n",
        "    print(acurate)\n",
        "    result.append(acurate)\n",
        "plt.plot(result)\n",
        "plt.ylabel(\"Nilai Akurasi\")\n",
        "plt.xlabel(\"Nilai K\")\n",
        "plt.xticks(np.arange(10),('1','2','3','4','5','6','7','8','9','10'))\n",
        "plt.show()"
      ],
      "id": "94Wur1UM8RDz",
      "execution_count": null,
      "outputs": [
        {
          "output_type": "stream",
          "name": "stdout",
          "text": [
            "0.8341307814992025\n",
            "0.8277511961722488\n",
            "0.8070175438596491\n",
            "0.8133971291866029\n",
            "0.8149920255183413\n",
            "0.8070175438596491\n",
            "0.8133971291866029\n",
            "0.8133971291866029\n",
            "0.8086124401913876\n",
            "0.7894736842105263\n"
          ]
        },
        {
          "output_type": "display_data",
          "data": {
            "image/png": "[encoded data removed]",
            "text/plain": [
              "<Figure size 432x288 with 1 Axes>"
            ]
          },
          "metadata": {
            "needs_background": "light"
          }
        }
      ]
    },
    {
      "cell_type": "code",
      "metadata": {
        "colab": {
          "base_uri": "https://localhost:8080/"
        },
        "id": "QQdY-IUuCOlv",
        "outputId": "fb0a18ed-a122-4d60-c376-a20786e76db2"
      },
      "source": [
        "knn = KNeighborsClassifier(n_neighbors=1)\n",
        "knn.fit(x_train, y_train)"
      ],
      "id": "QQdY-IUuCOlv",
      "execution_count": null,
      "outputs": [
        {
          "output_type": "execute_result",
          "data": {
            "text/plain": [
              "KNeighborsClassifier(n_neighbors=1)"
            ]
          },
          "metadata": {},
          "execution_count": 42
        }
      ]
    },
    {
      "cell_type": "code",
      "metadata": {
        "colab": {
          "base_uri": "https://localhost:8080/"
        },
        "id": "gqd1yqUqCOlw",
        "outputId": "2d07b6da-91cf-4c34-ee25-84b1e5401635"
      },
      "source": [
        "#Menentukan hasil prediksi dari x test\n",
        "y_pred = knn.predict(x_test)\n",
        "y_pred"
      ],
      "id": "gqd1yqUqCOlw",
      "execution_count": null,
      "outputs": [
        {
          "output_type": "execute_result",
          "data": {
            "text/plain": [
              "array([3, 5, 6, 3, 2, 6, 3, 4, 0, 6, 6, 0, 6, 2, 5, 5, 5, 5, 4, 3, 5, 0,\n",
              "       6, 4, 5, 3, 2, 3, 4, 2, 2, 4, 0, 2, 6, 6, 4, 4, 3, 5, 3, 6, 6, 3,\n",
              "       1, 3, 3, 5, 3, 5, 6, 0, 4, 6, 2, 0, 0, 2, 0, 0, 6, 5, 2, 0, 6, 6,\n",
              "       2, 5, 2, 0, 5, 1, 1, 2, 5, 5, 6, 5, 1, 6, 0, 0, 4, 6, 2, 2, 4, 0,\n",
              "       2, 3, 2, 1, 2, 2, 3, 4, 0, 2, 6, 1, 2, 6, 6, 6, 5, 6, 6, 3, 5, 3,\n",
              "       2, 0, 1, 0, 6, 1, 5, 3, 4, 4, 4, 4, 3, 3, 5, 4, 3, 3, 1, 5, 5, 5,\n",
              "       3, 3, 2, 3, 1, 3, 5, 4, 4, 1, 2, 2, 4, 4, 2, 4, 5, 4, 2, 3, 5, 3,\n",
              "       3, 6, 0, 1, 0, 6, 1, 4, 0, 5, 0, 4, 1, 3, 6, 3, 4, 4, 2, 2, 1, 1,\n",
              "       2, 5, 5, 2, 4, 1, 3, 1, 2, 4, 2, 1, 2, 4, 1, 0, 4, 6, 1, 0, 0, 2,\n",
              "       1, 2, 2, 1, 6, 4, 6, 2, 6, 2, 0, 6, 1, 4, 4, 2, 4, 3, 2, 5, 3, 6,\n",
              "       6, 3, 0, 6, 0, 3, 3, 2, 2, 6, 5, 5, 5, 2, 3, 6, 2, 4, 0, 0, 2, 6,\n",
              "       4, 6, 5, 1, 3, 5, 2, 4, 4, 5, 0, 4, 3, 3, 6, 6, 4, 1, 0, 3, 6, 3,\n",
              "       6, 6, 5, 3, 4, 5, 3, 6, 2, 0, 0, 4, 4, 4, 1, 4, 0, 5, 5, 0, 0, 6,\n",
              "       3, 3, 5, 0, 2, 0, 1, 4, 4, 0, 5, 5, 5, 6, 0, 1, 5, 6, 0, 6, 4, 3,\n",
              "       1, 0, 2, 6, 6, 0, 1, 3, 4, 3, 3, 1, 6, 5, 2, 3, 1, 6, 6, 2, 0, 3,\n",
              "       3, 0, 5, 4, 3, 4, 1, 6, 4, 0, 3, 3, 3, 0, 2, 3, 2, 0, 6, 2, 0, 0,\n",
              "       1, 2, 3, 4, 5, 2, 6, 5, 4, 6, 2, 4, 2, 3, 4, 2, 6, 6, 0, 0, 2, 2,\n",
              "       6, 1, 6, 3, 3, 4, 6, 4, 2, 3, 2, 4, 5, 2, 1, 5, 6, 3, 3, 5, 5, 3,\n",
              "       1, 5, 3, 2, 5, 6, 2, 1, 0, 6, 5, 2, 3, 4, 3, 2, 2, 2, 4, 5, 4, 2,\n",
              "       4, 4, 1, 6, 0, 2, 4, 3, 6, 6, 6, 6, 2, 4, 6, 2, 6, 5, 1, 6, 0, 6,\n",
              "       4, 6, 2, 0, 1, 6, 6, 0, 3, 5, 4, 3, 2, 5, 2, 2, 5, 4, 4, 3, 0, 0,\n",
              "       2, 4, 6, 4, 2, 5, 0, 4, 3, 3, 2, 2, 2, 0, 6, 3, 4, 3, 1, 4, 2, 2,\n",
              "       0, 2, 6, 2, 2, 1, 6, 4, 0, 6, 6, 0, 0, 0, 0, 2, 2, 0, 0, 3, 1, 0,\n",
              "       5, 2, 5, 4, 3, 5, 0, 1, 2, 1, 2, 2, 4, 0, 6, 1, 3, 1, 4, 4, 3, 6,\n",
              "       4, 5, 0, 6, 0, 0, 5, 0, 2, 0, 6, 3, 4, 6, 0, 4, 3, 1, 0, 6, 4, 4,\n",
              "       6, 2, 6, 2, 6, 2, 0, 5, 2, 6, 3, 0, 3, 3, 0, 3, 0, 5, 0, 6, 2, 6,\n",
              "       2, 2, 6, 3, 4, 5, 4, 2, 0, 6, 2, 4, 1, 0, 0, 2, 3, 4, 4, 0, 4, 2,\n",
              "       5, 5, 3, 5, 5, 0, 5, 6, 0, 1, 6, 2, 5, 3, 2, 2, 4, 4, 5, 6, 2, 6,\n",
              "       0, 1, 3, 4, 1, 3, 2, 1, 2, 0, 2])"
            ]
          },
          "metadata": {},
          "execution_count": 43
        }
      ]
    },
    {
      "cell_type": "code",
      "metadata": {
        "colab": {
          "base_uri": "https://localhost:8080/"
        },
        "id": "zdaOTWCdCOlx",
        "outputId": "d5084c49-6fe9-4267-ba66-ddfe97531bc0"
      },
      "source": [
        "#Menghitung confusion matrix \n",
        "from sklearn.metrics import classification_report, confusion_matrix\n",
        "\n",
        "#Menampilkan confusion matrix\n",
        "print(confusion_matrix(y_test, y_pred))"
      ],
      "id": "zdaOTWCdCOlx",
      "execution_count": null,
      "outputs": [
        {
          "output_type": "stream",
          "name": "stdout",
          "text": [
            "[[73  4  0  0  0  1  1]\n",
            " [14 39  1  1  0 11 11]\n",
            " [ 2  1 99  1  0  6  4]\n",
            " [ 0  0  3 91  0  1  3]\n",
            " [ 0  0  0  0 92  0  0]\n",
            " [ 1  7  3  0  1 55 10]\n",
            " [ 2  4  7  0  1  3 74]]\n"
          ]
        }
      ]
    },
    {
      "cell_type": "code",
      "metadata": {
        "colab": {
          "base_uri": "https://localhost:8080/"
        },
        "id": "zo4OdBjiCOlx",
        "outputId": "4f801f0c-111a-4ec1-d561-beddbe223fd3"
      },
      "source": [
        "#Menampilkan hasil ketepatan prediksi menggunakan nilai precision\n",
        "print(classification_report(y_test, y_pred))\n",
        "\n",
        "#Menampilkan hasil nilai akurasi\n",
        "from sklearn.metrics import accuracy_score \n",
        "accuracy = accuracy_score(y_test, y_pred)\n",
        "print(\"Akurasi = \",accuracy)"
      ],
      "id": "zo4OdBjiCOlx",
      "execution_count": null,
      "outputs": [
        {
          "output_type": "stream",
          "name": "stdout",
          "text": [
            "              precision    recall  f1-score   support\n",
            "\n",
            "           0       0.79      0.92      0.85        79\n",
            "           1       0.71      0.51      0.59        77\n",
            "           2       0.88      0.88      0.88       113\n",
            "           3       0.98      0.93      0.95        98\n",
            "           4       0.98      1.00      0.99        92\n",
            "           5       0.71      0.71      0.71        77\n",
            "           6       0.72      0.81      0.76        91\n",
            "\n",
            "    accuracy                           0.83       627\n",
            "   macro avg       0.82      0.82      0.82       627\n",
            "weighted avg       0.83      0.83      0.83       627\n",
            "\n",
            "Akurasi =  0.8341307814992025\n"
          ]
        }
      ]
    },
    {
      "cell_type": "markdown",
      "metadata": {
        "id": "7YDCyASa8Z3y"
      },
      "source": [
        "# 1. Menggunakan Data 40-60"
      ],
      "id": "7YDCyASa8Z3y"
    },
    {
      "cell_type": "code",
      "metadata": {
        "id": "6wkRj9JO8Z3z"
      },
      "source": [
        "#Import split train test \n",
        "from sklearn.model_selection import train_test_split\n",
        "\n",
        "x_train, x_test, y_train, y_test = train_test_split(x, y, test_size=0.40, random_state=0)"
      ],
      "id": "6wkRj9JO8Z3z",
      "execution_count": null,
      "outputs": []
    },
    {
      "cell_type": "code",
      "metadata": {
        "id": "udCb1pCY8Z3z"
      },
      "source": [
        "#Mengubah skala data dengan mengaktifkan package dan menuliskan syntax\n",
        "\n",
        "from sklearn.preprocessing import StandardScaler\n",
        "\n",
        "scaler = StandardScaler()\n",
        "scaler.fit(x_train)\n",
        "x_train = scaler.transform(x_train)\n",
        "x_test = scaler.transform(x_test)"
      ],
      "id": "udCb1pCY8Z3z",
      "execution_count": null,
      "outputs": []
    },
    {
      "cell_type": "code",
      "metadata": {
        "id": "EDIKvcGW8Z3z"
      },
      "source": [
        "#Memanggil package KNN \n",
        "from sklearn.neighbors import KNeighborsClassifier\n",
        "\n",
        "#Menampilkan hasil nilai akurasi\n",
        "from sklearn.metrics import accuracy_score "
      ],
      "id": "EDIKvcGW8Z3z",
      "execution_count": null,
      "outputs": []
    },
    {
      "cell_type": "code",
      "metadata": {
        "colab": {
          "base_uri": "https://localhost:8080/",
          "height": 453
        },
        "id": "6IudsRHW8Z30",
        "outputId": "bae7765e-47ec-4d8f-b2ed-066d49646018"
      },
      "source": [
        "from statistics import *\n",
        "\n",
        "result = []\n",
        "for i in range (1,11):\n",
        "    knn = KNeighborsClassifier(n_neighbors=i)\n",
        "    knn.fit(x_train, y_train)\n",
        "    #Masukkan prediksi\n",
        "    pred_knn = knn.predict(x_test)\n",
        "    #Nilai prediksi \n",
        "    acurate = accuracy_score(y_test, pred_knn)\n",
        "    print(acurate)\n",
        "    result.append(acurate)\n",
        "plt.plot(result)\n",
        "plt.ylabel(\"Nilai Akurasi\")\n",
        "plt.xlabel(\"Nilai K\")\n",
        "plt.xticks(np.arange(10),('1','2','3','4','5','6','7','8','9','10'))\n",
        "plt.show()"
      ],
      "id": "6IudsRHW8Z30",
      "execution_count": null,
      "outputs": [
        {
          "output_type": "stream",
          "name": "stdout",
          "text": [
            "0.8311377245508982\n",
            "0.8203592814371258\n",
            "0.822754491017964\n",
            "0.8023952095808383\n",
            "0.8023952095808383\n",
            "0.8\n",
            "0.8011976047904191\n",
            "0.7868263473053893\n",
            "0.7748502994011977\n",
            "0.7724550898203593\n"
          ]
        },
        {
          "output_type": "display_data",
          "data": {
            "image/png": "[encoded data removed]",
            "text/plain": [
              "<Figure size 432x288 with 1 Axes>"
            ]
          },
          "metadata": {
            "needs_background": "light"
          }
        }
      ]
    },
    {
      "cell_type": "code",
      "metadata": {
        "colab": {
          "base_uri": "https://localhost:8080/"
        },
        "id": "qQMs6cpWBY52",
        "outputId": "549821db-4c29-481a-bdbc-7db325f0ab5f"
      },
      "source": [
        "knn = KNeighborsClassifier(n_neighbors=1)\n",
        "knn.fit(x_train, y_train)"
      ],
      "id": "qQMs6cpWBY52",
      "execution_count": null,
      "outputs": [
        {
          "output_type": "execute_result",
          "data": {
            "text/plain": [
              "KNeighborsClassifier(n_neighbors=1)"
            ]
          },
          "metadata": {},
          "execution_count": 59
        }
      ]
    },
    {
      "cell_type": "code",
      "metadata": {
        "colab": {
          "base_uri": "https://localhost:8080/"
        },
        "id": "qhSEhOWNBY53",
        "outputId": "8ab1547b-7714-4277-c85b-8c6bcd0a30fb"
      },
      "source": [
        "#Menentukan hasil prediksi dari x test\n",
        "y_pred = knn.predict(x_test)\n",
        "y_pred"
      ],
      "id": "qhSEhOWNBY53",
      "execution_count": null,
      "outputs": [
        {
          "output_type": "execute_result",
          "data": {
            "text/plain": [
              "array([3, 5, 6, 3, 2, 6, 3, 4, 0, 6, 6, 0, 6, 2, 5, 5, 5, 5, 4, 3, 5, 0,\n",
              "       6, 4, 5, 3, 2, 3, 4, 2, 2, 4, 0, 2, 6, 6, 4, 4, 3, 5, 3, 6, 6, 3,\n",
              "       1, 3, 3, 5, 3, 5, 6, 0, 4, 6, 2, 0, 0, 2, 0, 0, 6, 5, 2, 0, 6, 6,\n",
              "       2, 5, 2, 0, 5, 1, 1, 2, 5, 5, 6, 5, 1, 6, 0, 0, 4, 6, 2, 6, 4, 0,\n",
              "       3, 3, 2, 1, 2, 2, 3, 4, 0, 2, 6, 1, 2, 6, 5, 6, 5, 6, 6, 3, 5, 3,\n",
              "       2, 0, 1, 0, 6, 1, 5, 3, 4, 4, 4, 4, 3, 3, 5, 4, 3, 3, 1, 5, 5, 5,\n",
              "       3, 3, 2, 3, 1, 3, 5, 4, 4, 1, 2, 2, 4, 4, 2, 4, 5, 4, 2, 3, 5, 3,\n",
              "       3, 6, 0, 1, 0, 6, 1, 4, 0, 5, 0, 4, 1, 3, 6, 3, 4, 4, 2, 2, 1, 5,\n",
              "       2, 5, 5, 2, 4, 1, 3, 1, 2, 4, 2, 1, 2, 4, 1, 0, 4, 6, 1, 0, 0, 2,\n",
              "       1, 2, 2, 1, 6, 4, 6, 2, 6, 2, 0, 6, 1, 4, 4, 2, 4, 3, 2, 5, 3, 5,\n",
              "       6, 3, 0, 6, 0, 3, 3, 2, 2, 6, 5, 5, 5, 2, 3, 6, 2, 4, 0, 0, 2, 6,\n",
              "       4, 6, 5, 1, 3, 5, 2, 4, 4, 5, 0, 4, 3, 3, 6, 6, 4, 1, 0, 3, 6, 3,\n",
              "       6, 6, 5, 3, 4, 5, 3, 6, 2, 0, 0, 4, 4, 4, 1, 4, 0, 5, 5, 0, 0, 6,\n",
              "       3, 3, 5, 0, 2, 0, 1, 4, 4, 0, 5, 5, 5, 6, 0, 6, 5, 6, 0, 6, 4, 3,\n",
              "       1, 0, 1, 6, 6, 0, 1, 3, 4, 3, 3, 1, 6, 5, 2, 3, 1, 6, 6, 2, 0, 3,\n",
              "       3, 5, 5, 4, 3, 4, 1, 6, 4, 0, 3, 3, 3, 0, 2, 3, 2, 0, 6, 2, 0, 0,\n",
              "       1, 2, 3, 4, 5, 2, 6, 5, 4, 6, 2, 4, 2, 3, 4, 2, 6, 6, 0, 0, 2, 2,\n",
              "       6, 1, 6, 3, 3, 4, 6, 4, 2, 3, 2, 4, 1, 2, 1, 5, 6, 3, 3, 5, 5, 3,\n",
              "       1, 5, 3, 2, 5, 1, 2, 1, 0, 6, 5, 2, 3, 4, 3, 2, 2, 2, 4, 5, 4, 2,\n",
              "       4, 4, 1, 6, 0, 2, 4, 3, 6, 6, 6, 6, 2, 4, 6, 2, 6, 5, 1, 6, 0, 6,\n",
              "       4, 6, 2, 0, 1, 6, 6, 0, 3, 5, 4, 3, 2, 5, 2, 2, 5, 4, 4, 3, 0, 0,\n",
              "       2, 4, 6, 4, 2, 5, 0, 4, 3, 3, 2, 2, 2, 0, 6, 3, 4, 3, 1, 4, 2, 2,\n",
              "       0, 2, 6, 2, 2, 1, 6, 4, 0, 6, 6, 0, 0, 0, 0, 2, 2, 0, 0, 3, 1, 0,\n",
              "       5, 2, 5, 4, 3, 5, 0, 1, 2, 1, 2, 2, 4, 0, 6, 1, 3, 1, 4, 4, 3, 6,\n",
              "       4, 5, 0, 5, 0, 0, 2, 0, 2, 0, 6, 3, 4, 6, 0, 4, 3, 1, 0, 6, 4, 4,\n",
              "       6, 2, 6, 2, 6, 2, 0, 5, 2, 6, 3, 0, 3, 3, 0, 3, 0, 0, 0, 6, 2, 6,\n",
              "       2, 2, 6, 3, 4, 5, 4, 2, 0, 6, 2, 4, 1, 1, 0, 2, 3, 4, 4, 0, 4, 2,\n",
              "       5, 5, 3, 5, 5, 0, 5, 6, 0, 1, 6, 2, 5, 3, 2, 2, 4, 4, 5, 6, 2, 6,\n",
              "       0, 1, 3, 4, 1, 3, 2, 1, 2, 0, 2, 2, 1, 6, 6, 1, 6, 0, 6, 0, 0, 0,\n",
              "       6, 4, 0, 2, 4, 3, 4, 4, 2, 3, 5, 6, 2, 1, 6, 2, 0, 0, 2, 0, 2, 2,\n",
              "       3, 6, 3, 1, 0, 6, 6, 2, 3, 5, 2, 0, 2, 5, 2, 6, 6, 6, 3, 0, 4, 0,\n",
              "       3, 6, 4, 4, 6, 0, 4, 4, 2, 6, 2, 6, 5, 2, 6, 3, 4, 5, 1, 4, 0, 0,\n",
              "       0, 0, 6, 4, 3, 1, 2, 2, 5, 4, 6, 5, 0, 0, 4, 5, 0, 4, 6, 0, 0, 6,\n",
              "       0, 2, 5, 6, 5, 6, 1, 0, 6, 6, 6, 5, 2, 4, 2, 1, 5, 4, 4, 3, 4, 6,\n",
              "       2, 0, 6, 6, 2, 0, 6, 5, 3, 2, 6, 2, 1, 4, 2, 1, 6, 6, 4, 2, 5, 2,\n",
              "       3, 2, 0, 0, 0, 5, 5, 3, 0, 0, 0, 2, 3, 5, 6, 5, 2, 3, 0, 0, 4, 5,\n",
              "       2, 0, 3, 0, 0, 2, 3, 0, 0, 4, 6, 2, 1, 0, 3, 3, 5, 1, 3, 0, 4, 3,\n",
              "       3, 4, 4, 0, 4, 5, 1, 5, 6, 0, 6, 0, 0, 2, 5, 0, 4, 0, 6, 5, 1])"
            ]
          },
          "metadata": {},
          "execution_count": 60
        }
      ]
    },
    {
      "cell_type": "code",
      "metadata": {
        "colab": {
          "base_uri": "https://localhost:8080/"
        },
        "id": "dyop9eOtBY53",
        "outputId": "4ad490bc-f4fe-4d74-e497-f1e24d166ded"
      },
      "source": [
        "#Menghitung confusion matrix \n",
        "from sklearn.metrics import classification_report, confusion_matrix\n",
        "\n",
        "#Menampilkan confusion matrix\n",
        "print(confusion_matrix(y_test, y_pred))"
      ],
      "id": "dyop9eOtBY53",
      "execution_count": null,
      "outputs": [
        {
          "output_type": "stream",
          "name": "stdout",
          "text": [
            "[[111   5   0   0   0   2   1]\n",
            " [ 19  46   4   1   0  12  16]\n",
            " [  2   4 127   3   0   6   5]\n",
            " [  0   0   4 111   0   1   4]\n",
            " [  0   0   0   0 120   0   0]\n",
            " [  2  12   3   0   1  76  11]\n",
            " [  4   4   7   1   1   6 103]]\n"
          ]
        }
      ]
    },
    {
      "cell_type": "code",
      "metadata": {
        "colab": {
          "base_uri": "https://localhost:8080/"
        },
        "id": "FNPV4M5LBY54",
        "outputId": "94829898-a1ec-497b-c617-cc5c8419cfb0"
      },
      "source": [
        "#Menampilkan hasil ketepatan prediksi menggunakan nilai precision\n",
        "print(classification_report(y_test, y_pred))\n",
        "\n",
        "#Menampilkan hasil nilai akurasi\n",
        "from sklearn.metrics import accuracy_score \n",
        "accuracy = accuracy_score(y_test, y_pred)\n",
        "print(\"Akurasi = \",accuracy)"
      ],
      "id": "FNPV4M5LBY54",
      "execution_count": null,
      "outputs": [
        {
          "output_type": "stream",
          "name": "stdout",
          "text": [
            "              precision    recall  f1-score   support\n",
            "\n",
            "           0       0.80      0.93      0.86       119\n",
            "           1       0.65      0.47      0.54        98\n",
            "           2       0.88      0.86      0.87       147\n",
            "           3       0.96      0.93      0.94       120\n",
            "           4       0.98      1.00      0.99       120\n",
            "           5       0.74      0.72      0.73       105\n",
            "           6       0.74      0.82      0.77       126\n",
            "\n",
            "    accuracy                           0.83       835\n",
            "   macro avg       0.82      0.82      0.82       835\n",
            "weighted avg       0.83      0.83      0.83       835\n",
            "\n",
            "Akurasi =  0.8311377245508982\n"
          ]
        }
      ]
    },
    {
      "cell_type": "markdown",
      "metadata": {
        "id": "UNELCyUbAIXL"
      },
      "source": [
        "# 1. Menggunakan Data 50-50"
      ],
      "id": "UNELCyUbAIXL"
    },
    {
      "cell_type": "code",
      "metadata": {
        "id": "-Vae4WHbAIXM"
      },
      "source": [
        "#Import split train test \n",
        "from sklearn.model_selection import train_test_split\n",
        "\n",
        "x_train, x_test, y_train, y_test = train_test_split(x, y, test_size=0.50, random_state=0)"
      ],
      "id": "-Vae4WHbAIXM",
      "execution_count": null,
      "outputs": []
    },
    {
      "cell_type": "code",
      "metadata": {
        "id": "abAjmUPXAIXN"
      },
      "source": [
        "#Mengubah skala data dengan mengaktifkan package dan menuliskan syntax\n",
        "\n",
        "from sklearn.preprocessing import StandardScaler\n",
        "\n",
        "scaler = StandardScaler()\n",
        "scaler.fit(x_train)\n",
        "x_train = scaler.transform(x_train)\n",
        "x_test = scaler.transform(x_test)"
      ],
      "id": "abAjmUPXAIXN",
      "execution_count": null,
      "outputs": []
    },
    {
      "cell_type": "code",
      "metadata": {
        "id": "_Qr61MhBAIXN"
      },
      "source": [
        "#Memanggil package KNN \n",
        "from sklearn.neighbors import KNeighborsClassifier\n",
        "\n",
        "#Menampilkan hasil nilai akurasi\n",
        "from sklearn.metrics import accuracy_score "
      ],
      "id": "_Qr61MhBAIXN",
      "execution_count": null,
      "outputs": []
    },
    {
      "cell_type": "code",
      "metadata": {
        "colab": {
          "base_uri": "https://localhost:8080/",
          "height": 453
        },
        "id": "uXZPr2NeAIXN",
        "outputId": "d009d26f-a0b9-4452-cd04-09e50c725799"
      },
      "source": [
        "from statistics import *\n",
        "\n",
        "result = []\n",
        "for i in range (1,11):\n",
        "    knn = KNeighborsClassifier(n_neighbors=i)\n",
        "    knn.fit(x_train, y_train)\n",
        "    #Masukkan prediksi\n",
        "    pred_knn = knn.predict(x_test)\n",
        "    #Nilai prediksi \n",
        "    acurate = accuracy_score(y_test, pred_knn)\n",
        "    print(acurate)\n",
        "    result.append(acurate)\n",
        "plt.plot(result)\n",
        "plt.ylabel(\"Nilai Akurasi\")\n",
        "plt.xlabel(\"Nilai K\")\n",
        "plt.xticks(np.arange(10),('1','2','3','4','5','6','7','8','9','10'))\n",
        "plt.show()"
      ],
      "id": "uXZPr2NeAIXN",
      "execution_count": null,
      "outputs": [
        {
          "output_type": "stream",
          "name": "stdout",
          "text": [
            "0.8237547892720306\n",
            "0.8007662835249042\n",
            "0.7998084291187739\n",
            "0.7902298850574713\n",
            "0.7883141762452107\n",
            "0.7758620689655172\n",
            "0.7662835249042146\n",
            "0.7557471264367817\n",
            "0.7490421455938697\n",
            "0.7538314176245211\n"
          ]
        },
        {
          "output_type": "display_data",
          "data": {
            "image/png": "[encoded data removed]",
            "text/plain": [
              "<Figure size 432x288 with 1 Axes>"
            ]
          },
          "metadata": {
            "needs_background": "light"
          }
        }
      ]
    },
    {
      "cell_type": "code",
      "metadata": {
        "colab": {
          "base_uri": "https://localhost:8080/"
        },
        "id": "sqNSmmdzAPth",
        "outputId": "1552d4bf-117a-44d3-b8f9-564c9ca2373e"
      },
      "source": [
        "knn = KNeighborsClassifier(n_neighbors=1)\n",
        "knn.fit(x_train, y_train)"
      ],
      "id": "sqNSmmdzAPth",
      "execution_count": null,
      "outputs": [
        {
          "output_type": "execute_result",
          "data": {
            "text/plain": [
              "KNeighborsClassifier(n_neighbors=1)"
            ]
          },
          "metadata": {},
          "execution_count": 67
        }
      ]
    },
    {
      "cell_type": "code",
      "metadata": {
        "colab": {
          "base_uri": "https://localhost:8080/"
        },
        "id": "VJ6k0UwlA4OJ",
        "outputId": "bed47e30-c85c-48e2-989e-70f7d9563bfe"
      },
      "source": [
        "#Menentukan hasil prediksi dari x test\n",
        "y_pred = knn.predict(x_test)\n",
        "y_pred"
      ],
      "id": "VJ6k0UwlA4OJ",
      "execution_count": null,
      "outputs": [
        {
          "output_type": "execute_result",
          "data": {
            "text/plain": [
              "array([3, 1, 6, ..., 4, 6, 0])"
            ]
          },
          "metadata": {},
          "execution_count": 68
        }
      ]
    },
    {
      "cell_type": "code",
      "metadata": {
        "colab": {
          "base_uri": "https://localhost:8080/"
        },
        "id": "bKrJlxh-A8tO",
        "outputId": "e899d20c-96d3-4c5c-cbcb-bd3d802d1eff"
      },
      "source": [
        "#Menghitung confusion matrix \n",
        "from sklearn.metrics import classification_report, confusion_matrix\n",
        "\n",
        "#Menampilkan confusion matrix\n",
        "print(confusion_matrix(y_test, y_pred))"
      ],
      "id": "bKrJlxh-A8tO",
      "execution_count": null,
      "outputs": [
        {
          "output_type": "stream",
          "name": "stdout",
          "text": [
            "[[127   9   0   0   0   4   1]\n",
            " [ 25  62  13   0   0  15  15]\n",
            " [  3   5 155   5   0   6   6]\n",
            " [  0   0   4 141   0   2   5]\n",
            " [  0   0   0   0 158   0   0]\n",
            " [  3  17   6   0   1  93   9]\n",
            " [  3   6   8   3   1   9 124]]\n"
          ]
        }
      ]
    },
    {
      "cell_type": "code",
      "metadata": {
        "colab": {
          "base_uri": "https://localhost:8080/"
        },
        "id": "C-AcNsPTBD5M",
        "outputId": "f0e0a5ed-73f4-47d9-dc02-ef827ce365c7"
      },
      "source": [
        "#Menampilkan hasil ketepatan prediksi menggunakan nilai precision\n",
        "print(classification_report(y_test, y_pred))\n",
        "\n",
        "#Menampilkan hasil nilai akurasi\n",
        "from sklearn.metrics import accuracy_score \n",
        "accuracy = accuracy_score(y_test, y_pred)\n",
        "print(\"Akurasi = \",accuracy)"
      ],
      "id": "C-AcNsPTBD5M",
      "execution_count": null,
      "outputs": [
        {
          "output_type": "stream",
          "name": "stdout",
          "text": [
            "              precision    recall  f1-score   support\n",
            "\n",
            "           0       0.79      0.90      0.84       141\n",
            "           1       0.63      0.48      0.54       130\n",
            "           2       0.83      0.86      0.85       180\n",
            "           3       0.95      0.93      0.94       152\n",
            "           4       0.99      1.00      0.99       158\n",
            "           5       0.72      0.72      0.72       129\n",
            "           6       0.78      0.81      0.79       154\n",
            "\n",
            "    accuracy                           0.82      1044\n",
            "   macro avg       0.81      0.81      0.81      1044\n",
            "weighted avg       0.82      0.82      0.82      1044\n",
            "\n",
            "Akurasi =  0.8237547892720306\n"
          ]
        }
      ]
    }
  ]
}